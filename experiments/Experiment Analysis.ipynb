{
 "cells": [
  {
   "cell_type": "markdown",
   "metadata": {},
   "source": [
    "# Quick Analysis of Chunk Size Tests"
   ]
  },
  {
   "cell_type": "code",
   "execution_count": 1,
   "metadata": {},
   "outputs": [],
   "source": [
    "import pandas as pd\n",
    "\n",
    "def find_fastest_schedule(data):\n",
    "    for mat_size in data['matrix size'].unique():\n",
    "        max_rate_i = data[(data['matrix size'] == mat_size)]\\\n",
    "                   ['Gigaentries per second'].idxmax()\n",
    "        print(data.loc[max_rate_i])"
   ]
  },
  {
   "cell_type": "code",
   "execution_count": 2,
   "metadata": {},
   "outputs": [
    {
     "name": "stdout",
     "output_type": "stream",
     "text": [
      "outer row loop\n",
      "schedule type             sequential\n",
      "chunk size                         0\n",
      "matrix size                      256\n",
      "time (ms)                    1.23533\n",
      "Gigaentries per second      0.005305\n",
      "Name: 0, dtype: object\n",
      "schedule type             sequential\n",
      "chunk size                         0\n",
      "matrix size                      512\n",
      "time (ms)                     10.519\n",
      "Gigaentries per second      0.002492\n",
      "Name: 1, dtype: object\n",
      "schedule type               static\n",
      "chunk size                      16\n",
      "matrix size                   1024\n",
      "time (ms)                  59.4774\n",
      "Gigaentries per second    0.001763\n",
      "Name: 32, dtype: object\n",
      "schedule type               guided\n",
      "chunk size                      16\n",
      "matrix size                   2048\n",
      "time (ms)                  678.605\n",
      "Gigaentries per second    0.000618\n",
      "Name: 140, dtype: object\n",
      "\n",
      "\n",
      "inner row loop\n",
      "schedule type             sequential\n",
      "chunk size                         0\n",
      "matrix size                      256\n",
      "time (ms)                    1.23533\n",
      "Gigaentries per second      0.005305\n",
      "Name: 0, dtype: object\n",
      "schedule type             sequential\n",
      "chunk size                         0\n",
      "matrix size                      512\n",
      "time (ms)                     10.519\n",
      "Gigaentries per second      0.002492\n",
      "Name: 1, dtype: object\n",
      "schedule type             sequential\n",
      "chunk size                         0\n",
      "matrix size                     1024\n",
      "time (ms)                    77.8187\n",
      "Gigaentries per second      0.001347\n",
      "Name: 2, dtype: object\n",
      "schedule type             sequential\n",
      "chunk size                         0\n",
      "matrix size                     2048\n",
      "time (ms)                    1721.99\n",
      "Gigaentries per second      0.000244\n",
      "Name: 3, dtype: object\n"
     ]
    }
   ],
   "source": [
    "print('outer row loop')\n",
    "data = pd.read_csv('./chunk-size-tests-01-outer-row-loop.csv')\n",
    "find_fastest_schedule(data)\n",
    "print('\\n\\ninner row loop')\n",
    "data = pd.read_csv('./chunk-size-tests-02-inner-row-loop.csv')\n",
    "find_fastest_schedule(data)\n",
    "print('\\n\\ncollapsed for loops')\n",
    "data = pd.read_csv('./chunk-size-tests-03')\n",
    "find_fastest_schedule(data)\n"
   ]
  }
 ],
 "metadata": {
  "kernelspec": {
   "display_name": "Python 3",
   "language": "python",
   "name": "python3"
  },
  "language_info": {
   "codemirror_mode": {
    "name": "ipython",
    "version": 3
   },
   "file_extension": ".py",
   "mimetype": "text/x-python",
   "name": "python",
   "nbconvert_exporter": "python",
   "pygments_lexer": "ipython3",
   "version": "3.7.4"
  },
  "varInspector": {
   "cols": {
    "lenName": 16,
    "lenType": 16,
    "lenVar": 40
   },
   "kernels_config": {
    "python": {
     "delete_cmd_postfix": "",
     "delete_cmd_prefix": "del ",
     "library": "var_list.py",
     "varRefreshCmd": "print(var_dic_list())"
    },
    "r": {
     "delete_cmd_postfix": ") ",
     "delete_cmd_prefix": "rm(",
     "library": "var_list.r",
     "varRefreshCmd": "cat(var_dic_list()) "
    }
   },
   "types_to_exclude": [
    "module",
    "function",
    "builtin_function_or_method",
    "instance",
    "_Feature"
   ],
   "window_display": false
  }
 },
 "nbformat": 4,
 "nbformat_minor": 2
}
